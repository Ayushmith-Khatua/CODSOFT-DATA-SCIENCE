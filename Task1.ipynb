{
  "nbformat": 4,
  "nbformat_minor": 0,
  "metadata": {
    "colab": {
      "provenance": [],
      "authorship_tag": "ABX9TyP3nCw9ErFy5Mi0jyZ20fUJ",
      "include_colab_link": true
    },
    "kernelspec": {
      "name": "python3",
      "display_name": "Python 3"
    },
    "language_info": {
      "name": "python"
    }
  },
  "cells": [
    {
      "cell_type": "markdown",
      "metadata": {
        "id": "view-in-github",
        "colab_type": "text"
      },
      "source": [
        "<a href=\"https://colab.research.google.com/github/Ayushmith-Khatua/CODSOFT-DATA-SCIENCE/blob/main/Task1.ipynb\" target=\"_parent\"><img src=\"https://colab.research.google.com/assets/colab-badge.svg\" alt=\"Open In Colab\"/></a>"
      ]
    },
    {
      "cell_type": "code",
      "execution_count": 4,
      "metadata": {
        "id": "Wz5KGpTdjvev"
      },
      "outputs": [],
      "source": [
        "!pip -q install pandas matplotlib\n",
        "import matplotlib.pyplot as plt\n"
      ]
    },
    {
      "cell_type": "code",
      "source": [
        "import pandas as pd\n",
        "data = pd.read_csv(\"Titanic-Dataset.csv\")\n",
        "print(data.head())"
      ],
      "metadata": {
        "colab": {
          "base_uri": "https://localhost:8080/"
        },
        "id": "vvOV1WchkXJ2",
        "outputId": "13b9510f-a3d2-40d7-e1eb-db87bad59364"
      },
      "execution_count": 5,
      "outputs": [
        {
          "output_type": "stream",
          "name": "stdout",
          "text": [
            "   PassengerId  Survived  Pclass  \\\n",
            "0            1         0       3   \n",
            "1            2         1       1   \n",
            "2            3         1       3   \n",
            "3            4         1       1   \n",
            "4            5         0       3   \n",
            "\n",
            "                                                Name     Sex   Age  SibSp  \\\n",
            "0                            Braund, Mr. Owen Harris    male  22.0      1   \n",
            "1  Cumings, Mrs. John Bradley (Florence Briggs Th...  female  38.0      1   \n",
            "2                             Heikkinen, Miss. Laina  female  26.0      0   \n",
            "3       Futrelle, Mrs. Jacques Heath (Lily May Peel)  female  35.0      1   \n",
            "4                           Allen, Mr. William Henry    male  35.0      0   \n",
            "\n",
            "   Parch            Ticket     Fare Cabin Embarked  \n",
            "0      0         A/5 21171   7.2500   NaN        S  \n",
            "1      0          PC 17599  71.2833   C85        C  \n",
            "2      0  STON/O2. 3101282   7.9250   NaN        S  \n",
            "3      0            113803  53.1000  C123        S  \n",
            "4      0            373450   8.0500   NaN        S  \n"
          ]
        }
      ]
    },
    {
      "cell_type": "code",
      "source": [
        "total_passengers = len(data)\n",
        "total_survived = data[\"Survived\"].sum()\n",
        "p_survived = total_survived / total_passengers\n",
        "print(\"Probability of survival =\", p_survived)\n",
        "\n",
        "\n",
        "male_data = data[data[\"Sex\"] == \"male\"]\n",
        "p_survived_male = male_data[\"Survived\"].sum() / len(male_data)\n",
        "print(\"Probability of survival (male) =\", p_survived_male)\n",
        "\n",
        "female_data = data[data[\"Sex\"] == \"female\"]\n",
        "p_survived_female = female_data[\"Survived\"].sum() / len(female_data)\n",
        "print(\"Probability of survival (female) =\", p_survived_female)\n",
        "\n",
        "pclass_counts = data[\"Pclass\"].value_counts()\n",
        "pclass_probs = pclass_counts / total_passengers\n",
        "print(\"\\nProbability of each passenger class:\")\n",
        "print(pclass_probs)\n"
      ],
      "metadata": {
        "colab": {
          "base_uri": "https://localhost:8080/"
        },
        "id": "Gq0AVaRbkgNi",
        "outputId": "5e681dbb-aa79-44f4-e8d7-d1a53e4e0111"
      },
      "execution_count": 6,
      "outputs": [
        {
          "output_type": "stream",
          "name": "stdout",
          "text": [
            "Probability of survival = 0.3838383838383838\n",
            "Probability of survival (male) = 0.18890814558058924\n",
            "Probability of survival (female) = 0.7420382165605095\n",
            "\n",
            "Probability of each passenger class:\n",
            "Pclass\n",
            "3    0.551066\n",
            "1    0.242424\n",
            "2    0.206510\n",
            "Name: count, dtype: float64\n"
          ]
        }
      ]
    },
    {
      "cell_type": "code",
      "source": [
        "import math\n",
        "n = 5\n",
        "k = 3\n",
        "p = p_survived\n",
        "binom_prob = math.comb(n, k) * (p**k) * ((1-p)**(n-k))\n",
        "\n",
        "print(\"Binomial probability of 3 survivors out of 5 =\", binom_prob)\n"
      ],
      "metadata": {
        "colab": {
          "base_uri": "https://localhost:8080/"
        },
        "id": "z8pWNYOrld4q",
        "outputId": "ec03c0d9-b3c3-432f-9b42-f7e4281e3fd7"
      },
      "execution_count": 7,
      "outputs": [
        {
          "output_type": "stream",
          "name": "stdout",
          "text": [
            "Binomial probability of 3 survivors out of 5 = 0.21470120746423169\n"
          ]
        }
      ]
    },
    {
      "cell_type": "code",
      "source": [
        "ages = data[\"Age\"].dropna()\n",
        "mu = ages.mean()\n",
        "sigma = ages.std()\n",
        "\n",
        "print(\"Mean age =\", mu)\n",
        "print(\"Standard deviation of age =\", sigma)\n",
        "\n",
        "from math import erf, sqrt\n",
        "\n",
        "def normal_cdf(x, mean, sd):\n",
        "    z = (x - mean) / (sd * sqrt(2))\n",
        "    return 0.5 * (1 + erf(z))\n",
        "\n",
        "prob_20_40 = normal_cdf(40, mu, sigma) - normal_cdf(20, mu, sigma)\n",
        "print(\"Probability that Age is between 20 and 40 =\", prob_20_40)"
      ],
      "metadata": {
        "colab": {
          "base_uri": "https://localhost:8080/"
        },
        "id": "8v_tRPHKlk9q",
        "outputId": "e7a995cb-5f87-4225-9cde-89aa7b141053"
      },
      "execution_count": 8,
      "outputs": [
        {
          "output_type": "stream",
          "name": "stdout",
          "text": [
            "Mean age = 29.69911764705882\n",
            "Standard deviation of age = 14.526497332334044\n",
            "Probability that Age is between 20 and 40 = 0.5087043535119836\n"
          ]
        }
      ]
    },
    {
      "cell_type": "code",
      "source": [
        "plt.hist(ages, bins=20, edgecolor=\"black\")\n",
        "plt.title(\"Age Distribution of Passengers\")\n",
        "plt.xlabel(\"Age\")\n",
        "plt.ylabel(\"Count\")\n",
        "plt.show()"
      ],
      "metadata": {
        "colab": {
          "base_uri": "https://localhost:8080/",
          "height": 472
        },
        "id": "znf_f4P8lrLY",
        "outputId": "1a1cf686-2382-49fa-a6d0-a146e05f450a"
      },
      "execution_count": 9,
      "outputs": [
        {
          "output_type": "display_data",
          "data": {
            "text/plain": [
              "<Figure size 640x480 with 1 Axes>"
            ],
            "image/png": "[encoded data removed]"
          },
          "metadata": {}
        }
      ]
    },
    {
      "cell_type": "code",
      "source": [],
      "metadata": {
        "id": "UWxg8wFhl2PA"
      },
      "execution_count": null,
      "outputs": []
    }
  ]
}